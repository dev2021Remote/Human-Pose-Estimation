{
 "cells": [
  {
   "cell_type": "markdown",
   "id": "8ca7286e",
   "metadata": {},
   "source": [
    "## Loading all modules"
   ]
  },
  {
   "cell_type": "code",
   "execution_count": 1,
   "id": "45b02f92",
   "metadata": {},
   "outputs": [],
   "source": [
    "# import tensorflow as tf\n",
    "import numpy as np\n",
    "from matplotlib import pyplot as plt\n",
    "from mpl_toolkits import mplot3d\n",
    "# import SimpleITK as sitk\n",
    "import cv2\n",
    "import time\n",
    "import pandas as pd\n",
    "\n",
    "\n",
    "# Connection between keypoints\n",
    "EDGES = {\n",
    "    (0, 1): 'm',\n",
    "    (0, 2): 'c',\n",
    "    (1, 3): 'm',\n",
    "    (2, 4): 'm',\n",
    "    (3, 5): 'c',\n",
    "    (0, 6): 'm',\n",
    "    (1, 7): 'c',\n",
    "    (6, 7): 'm',\n",
    "    (7, 9): 'm',\n",
    "    (6, 8): 'c',\n",
    "    (8, 10): 'c',\n",
    "    (9, 11): 'y',\n",
    "}\n",
    "\n"
   ]
  },
  {
   "cell_type": "markdown",
   "id": "507628b5",
   "metadata": {},
   "source": [
    "## Function for Drawing keypoints and connections b/w keypoints"
   ]
  },
  {
   "cell_type": "code",
   "execution_count": 2,
   "id": "4a77bdae",
   "metadata": {},
   "outputs": [],
   "source": [
    "# Function to Draw keypoints\n",
    "def draw_keypoints(frame,keypoints,confidence_threshold):\n",
    "    y,x,c = frame.shape\n",
    "    shaped = np.squeeze(np.multiply(keypoints,[y,x,1]))\n",
    "    \n",
    "    for kp in shaped:\n",
    "        ky, kx, kp_conf = kp\n",
    "#         if kp_conf > confidence_threshold:\n",
    "        cv2.circle(frame,(int(kx), int(ky)),4,(0,255,0),-1)\n",
    "\n",
    "# Function to Draw edjes or linking between keypoints\n",
    "def draw_connections(frame,keypoints,confidence_threshold,edges=EDGES):\n",
    "    y,x,c = frame.shape\n",
    "    shaped = np.squeeze(np.multiply(keypoints,[y,x,1]))\n",
    "    \n",
    "    for edge,color in edges.items():\n",
    "        p1,p2 = edge\n",
    "        y1,x1,c1  = shaped[p1]\n",
    "        y2,x2,c2 = shaped[p2]\n",
    "        \n",
    "#         if (c1 > confidence_threshold) & (c2 >  confidence_threshold):\n",
    "        cv2.line(frame,(int(x1),int(y1)),(int(x2),int(y2)),(255,0,0),2)"
   ]
  },
  {
   "cell_type": "markdown",
   "id": "8f6f939b",
   "metadata": {},
   "source": [
    "## Importing dataset and reading the data from keypoints"
   ]
  },
  {
   "cell_type": "code",
   "execution_count": 3,
   "id": "732c878f",
   "metadata": {},
   "outputs": [
    {
     "name": "stdout",
     "output_type": "stream",
     "text": [
      "total number of testcases :  120\n",
      "Total number of keypoints :  12\n",
      "-0.031209758522264666\n"
     ]
    }
   ],
   "source": [
    "\n",
    "arr = ['xX_left_shoulder', 'yY_left_shoulder', 'zZ_left_shoulder', 'xX_right_shoulder', 'yY_right_shoulder', 'zZ_right_shoulder', 'xX_left_elbow', 'yY_left_elbow', 'zZ_left_elbow', 'xX_right_elbow', 'yY_right_elbow', 'zZ_right_elbow', 'xX_left_wrist', 'yY_left_wrist', 'zZ_left_wrist', 'xX_right_wrist', 'yY_right_wrist', 'zZ_right_wrist', 'xX_left_hip', 'yY_left_hip', 'zZ_left_hip', 'xX_right_hip', 'yY_right_hip', 'zZ_right_hip', 'xX_left_knee', 'yY_left_knee', 'zZ_left_knee', 'xX_right_knee', 'yY_right_knee', 'zZ_right_knee', 'xX_left_ankle', 'yY_left_ankle', 'zZ_left_ankle', 'xX_right_ankle', 'yY_right_ankle', 'zZ_right_ankle']\n",
    "# print(len(arr))\n",
    "filename = \"test_data.csv\"\n",
    "df = pd.read_csv(filename,usecols=arr,squeeze=True)\n",
    "# print(list(df.columns.values))\n",
    "\n",
    "all_points =[]\n",
    "for item in arr:\n",
    "\n",
    "    tes =(df[item][0].split(','))\n",
    "\n",
    "    total_val =(len(tes))\n",
    "    val =[]\n",
    "\n",
    "    # print(tes[119].find(\"]\"))\n",
    "\n",
    "    for i in tes:\n",
    "        temp = i\n",
    "        if i.find(\"[\")>=0 or i.find(\"]\")>=0:\n",
    "            temp = temp.replace(\"[\",\"\")\n",
    "            temp = temp.replace(\"]\",\"\")\n",
    "\n",
    "        val.append(float(temp))\n",
    "    \n",
    "    \n",
    "    all_points.append(val)\n",
    "    \n",
    "print(\"total number of testcases : \",len(all_points[0]))  \n",
    "\n",
    "# getting shoulder points\n",
    "allkeypoints = []\n",
    "threshold_value = 0\n",
    "count = 0\n",
    "\n",
    "for i in range(len(all_points[0])):\n",
    "    temp = []\n",
    "    for j in range(0,36,3):\n",
    "        temp.append([all_points[j][i],all_points[j+1][i],all_points[j+2][i]])\n",
    "        threshold_value +=all_points[j+2][i]\n",
    "        count +=1\n",
    "        \n",
    "    allkeypoints.append(temp)\n",
    "    \n",
    "print(\"Total number of keypoints : \",len(allkeypoints[0]))\n",
    "threshold_value /= count\n",
    "print(threshold_value)"
   ]
  },
  {
   "cell_type": "markdown",
   "id": "87f6dd4e",
   "metadata": {},
   "source": [
    "## Looping through Test Cases and visualizing the animation"
   ]
  },
  {
   "cell_type": "code",
   "execution_count": 5,
   "id": "5156bf9e",
   "metadata": {},
   "outputs": [],
   "source": [
    "for val in allkeypoints:\n",
    "    \n",
    "    # Creating blank Canvas\n",
    "    img = np.zeros([480,640,3],dtype=np.uint8)\n",
    "    img.fill(255)\n",
    "#     print(val)\n",
    "    \n",
    "    # Calling draw_connections and draw_keypoints function\n",
    "    draw_connections(img,val,threshold_value)\n",
    "    draw_keypoints(img,val,threshold_value)\n",
    "    \n",
    "    # Putting the frame\n",
    "    cv2.imshow('Excersise',img)\n",
    "    \n",
    "    # Animation interval\n",
    "    time.sleep(0.05)\n",
    "    \n",
    "    if cv2.waitKey(10) & 0xFF==ord('q'):\n",
    "        break\n",
    "    \n",
    "    \n",
    "cv2.destroyAllWindows()\n",
    "\n"
   ]
  },
  {
   "cell_type": "code",
   "execution_count": null,
   "id": "ddf7b24b",
   "metadata": {},
   "outputs": [],
   "source": []
  }
 ],
 "metadata": {
  "kernelspec": {
   "display_name": "Python 3 (ipykernel)",
   "language": "python",
   "name": "python3"
  },
  "language_info": {
   "codemirror_mode": {
    "name": "ipython",
    "version": 3
   },
   "file_extension": ".py",
   "mimetype": "text/x-python",
   "name": "python",
   "nbconvert_exporter": "python",
   "pygments_lexer": "ipython3",
   "version": "3.9.5"
  }
 },
 "nbformat": 4,
 "nbformat_minor": 5
}
